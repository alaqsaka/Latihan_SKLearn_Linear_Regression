{
  "nbformat": 4,
  "nbformat_minor": 0,
  "metadata": {
    "colab": {
      "name": "SKLearn PCA.ipynb",
      "provenance": [],
      "authorship_tag": "ABX9TyMuZlWUeu9KdMREMYEkVXd6",
      "include_colab_link": true
    },
    "kernelspec": {
      "name": "python3",
      "display_name": "Python 3"
    }
  },
  "cells": [
    {
      "cell_type": "markdown",
      "metadata": {
        "id": "view-in-github",
        "colab_type": "text"
      },
      "source": [
        "<a href=\"https://colab.research.google.com/github/alaqsaka/ML/blob/main/SKLearn_PCA.ipynb\" target=\"_parent\"><img src=\"https://colab.research.google.com/assets/colab-badge.svg\" alt=\"Open In Colab\"/></a>"
      ]
    },
    {
      "cell_type": "code",
      "metadata": {
        "id": "ppQtl_eXItpZ"
      },
      "source": [
        "from sklearn import datasets\r\n",
        "from sklearn.model_selection import train_test_split\r\n",
        "\r\n",
        "iris = datasets.load_iris()\r\n",
        "atribut = iris.data\r\n",
        "label = iris.target\r\n",
        "\r\n",
        "# bagi dataset menjadi train set dan test set\r\n",
        "X_train, X_test, y_train, y_test = train_test_split(\r\n",
        "    atribut, label, test_size = 0.2, random_state=1\r\n",
        ")"
      ],
      "execution_count": 14,
      "outputs": []
    },
    {
      "cell_type": "code",
      "metadata": {
        "colab": {
          "base_uri": "https://localhost:8080/"
        },
        "id": "HgVJHdZnJS05",
        "outputId": "b0b06ca7-e5f5-4b8d-d7e1-c0369f97d17e"
      },
      "source": [
        "from sklearn import tree\r\n",
        "\r\n",
        "decision_tree = tree.DecisionTreeClassifier()\r\n",
        "model_pertama = decision_tree.fit(X_train, y_train)\r\n",
        "model_pertama.score(X_test, y_test)"
      ],
      "execution_count": 15,
      "outputs": [
        {
          "output_type": "execute_result",
          "data": {
            "text/plain": [
              "0.9666666666666667"
            ]
          },
          "metadata": {
            "tags": []
          },
          "execution_count": 15
        }
      ]
    },
    {
      "cell_type": "code",
      "metadata": {
        "colab": {
          "base_uri": "https://localhost:8080/"
        },
        "id": "zl4gQnfSJzGV",
        "outputId": "a7debf1d-4b96-4c07-e24f-b7e27e2948dc"
      },
      "source": [
        "from sklearn.decomposition import PCA\r\n",
        " \r\n",
        "# membuat objek PCA dengan 4 principal component\r\n",
        "pca = PCA(n_components=4)\r\n",
        " \r\n",
        "# mengaplikasikan PCA pada dataset\r\n",
        "pca_attributes = pca.fit_transform(X_train)\r\n",
        " \r\n",
        "# melihat variance dari setiap atribut\r\n",
        "pca.explained_variance_ratio_"
      ],
      "execution_count": 16,
      "outputs": [
        {
          "output_type": "execute_result",
          "data": {
            "text/plain": [
              "array([0.92848323, 0.04764372, 0.01931005, 0.004563  ])"
            ]
          },
          "metadata": {
            "tags": []
          },
          "execution_count": 16
        }
      ]
    },
    {
      "cell_type": "code",
      "metadata": {
        "id": "ZCrVFUFHK2Xz"
      },
      "source": [
        "# PCA dengan 2 principal component\r\n",
        "pca = PCA(n_components = 2)\r\n",
        "X_train_pca = pca.fit_transform(X_train)\r\n",
        "X_test_pca = pca.fit_transform(X_test)"
      ],
      "execution_count": 17,
      "outputs": []
    },
    {
      "cell_type": "code",
      "metadata": {
        "colab": {
          "base_uri": "https://localhost:8080/"
        },
        "id": "3WQrAawrLIU6",
        "outputId": "928dbdee-fe66-49c7-82d9-4e92089e0fb0"
      },
      "source": [
        "# uji akurasi classifier\r\n",
        "model2 = decision_tree.fit(X_train_pca, y_train)\r\n",
        "model2.score(X_test_pca, y_test)"
      ],
      "execution_count": 18,
      "outputs": [
        {
          "output_type": "execute_result",
          "data": {
            "text/plain": [
              "0.9333333333333333"
            ]
          },
          "metadata": {
            "tags": []
          },
          "execution_count": 18
        }
      ]
    }
  ]
}